{
 "cells": [
  {
   "cell_type": "code",
   "execution_count": 2,
   "id": "5a10f091-bf6a-4b7b-b134-8fd983ed0ccc",
   "metadata": {},
   "outputs": [],
   "source": [
    "from datetime import datetime"
   ]
  },
  {
   "cell_type": "code",
   "execution_count": 3,
   "id": "71d45b79-11a8-469c-b256-ef3c8f8dab35",
   "metadata": {},
   "outputs": [
    {
     "name": "stdout",
     "output_type": "stream",
     "text": [
      "Hello world\n"
     ]
    }
   ],
   "source": [
    "print(\"Hello world\")"
   ]
  },
  {
   "cell_type": "code",
   "execution_count": 6,
   "id": "ff787b68-bbe3-4b03-ae26-cbf74bdc69ac",
   "metadata": {},
   "outputs": [
    {
     "name": "stdout",
     "output_type": "stream",
     "text": [
      "Today is 25-10-25.\n"
     ]
    }
   ],
   "source": [
    "today_ = datetime.today().strftime('%y-%m-%d')\n",
    "print(f'Today is {today_}.')"
   ]
  },
  {
   "cell_type": "code",
   "execution_count": null,
   "id": "0bb59abd-d87a-43f5-a7b6-a5b206dc1c3f",
   "metadata": {},
   "outputs": [],
   "source": []
  }
 ],
 "metadata": {
  "kernelspec": {
   "display_name": "Python 3 (ipykernel)",
   "language": "python",
   "name": "python3"
  },
  "language_info": {
   "codemirror_mode": {
    "name": "ipython",
    "version": 3
   },
   "file_extension": ".py",
   "mimetype": "text/x-python",
   "name": "python",
   "nbconvert_exporter": "python",
   "pygments_lexer": "ipython3",
   "version": "3.10.0"
  }
 },
 "nbformat": 4,
 "nbformat_minor": 5
}
